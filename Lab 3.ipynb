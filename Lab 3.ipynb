{
 "cells": [
  {
   "cell_type": "markdown",
   "id": "f03e4f5a",
   "metadata": {},
   "source": [
    "Броуновское движение"
   ]
  },
  {
   "cell_type": "code",
   "execution_count": 19,
   "id": "0e4c93bc",
   "metadata": {},
   "outputs": [],
   "source": [
    "import turtle as t\n",
    "from random import randint\n",
    "t.shape('turtle')\n",
    "t.color(\"blue\")\n",
    "t.width(1)\n",
    "t.speed(15)\n",
    "for i in range(100):\n",
    "    t.left(randint(0,360))\n",
    "    t.forward(randint(0,100))\n",
    "t.done()"
   ]
  },
  {
   "cell_type": "markdown",
   "id": "2229e055",
   "metadata": {},
   "source": [
    "Генератор списков"
   ]
  },
  {
   "cell_type": "code",
   "execution_count": 14,
   "id": "9dc911aa",
   "metadata": {},
   "outputs": [
    {
     "name": "stdout",
     "output_type": "stream",
     "text": [
      "Введите индекс123\n"
     ]
    }
   ],
   "source": [
    "posts = input('Введите индекс')\n",
    "import turtle as t\n",
    "t.pu()\n",
    "t.setpos(-300,0)\n",
    "t.color('blue')\n",
    "t.width(3)\n",
    "zero = [0, 1, 5, 4, 0]\n",
    "one = [2, 1, 5]\n",
    "two = [0, 1, 3, 4, 5]\n",
    "three = [0, 1, 2, 3, 4]\n",
    "four = [0, 2, 3, 1, 5]\n",
    "five = [1, 0, 2, 3, 5, 4]\n",
    "six = [1, 2, 4, 5, 3, 2]\n",
    "seven = [0, 1, 2, 4]\n",
    "eight = [2, 0, 1, 3, 2, 4, 5, 3]\n",
    "nine = [4, 3, 2, 0, 1, 3]\n",
    "def cords():\n",
    "    global coords\n",
    "    x = t.xcor()\n",
    "    y = t.ycor()\n",
    "    coords = [(x,y+50), (x+50,y+50), (x,y), (x+50,y), (x,y-50), (x+50,y-50), (x+100, y)]\n",
    "def go(number):\n",
    "    cords()\n",
    "    t.setpos(coords[number[0]])\n",
    "    t.pd()\n",
    "    for i in range(len(number)-1):\n",
    "        t.setpos(coords[number[i+1]])\n",
    "    t.pu()\n",
    "    t.setpos(coords[6])    \n",
    "func_list = [zero, one, two, three, four, five, six, seven, eight, nine]\n",
    "for i in range(len(posts)):\n",
    "    go(func_list[int(posts[i])])\n",
    "t.done()"
   ]
  },
  {
   "cell_type": "markdown",
   "id": "e0e28721",
   "metadata": {},
   "source": [
    "Движение материальной точки"
   ]
  },
  {
   "cell_type": "code",
   "execution_count": 56,
   "id": "a43097d2",
   "metadata": {},
   "outputs": [],
   "source": [
    "import turtle as t\n",
    "t.speed(7)\n",
    "turtle.goto(350,0)\n",
    "turtle.goto(-350,0)\n",
    "vx = 2.6\n",
    "a = 1.7\n",
    "vy = 20\n",
    "y = 0\n",
    "x = -350\n",
    "for i in range(400):\n",
    "    vy -= a\n",
    "    if y + vy < 0:\n",
    "        y = vy\n",
    "        vy = -vy\n",
    "    t.goto(x + vx, y + vy)\n",
    "    x = t.xcor()\n",
    "    y = t.ycor()\n",
    "t.done()"
   ]
  },
  {
   "cell_type": "markdown",
   "id": "361cb015",
   "metadata": {},
   "source": [
    "Движение идеального газа"
   ]
  },
  {
   "cell_type": "code",
   "execution_count": null,
   "id": "099b8165",
   "metadata": {},
   "outputs": [],
   "source": [
    "from random import randint\n",
    "import turtle as t\n",
    "number_of_t = 130\n",
    "steps_of_time_number = 1000\n",
    "\n",
    "pool = [t.Turtle(shape='turtle') for i in range(number_of_turtles)]\n",
    "for unit in pool:\n",
    "    unit.penup()\n",
    "    unit.speed(1000)\n",
    "    unit.goto(randint(-300, 300), randint(-300, 300))\n",
    "\n",
    "for i in range(steps_of_time_number):\n",
    "    for unit in pool:\n",
    "        unit.forward(randint(50,1000))\n",
    "        unit.right(randint(-180,180))"
   ]
  },
  {
   "cell_type": "code",
   "execution_count": 6,
   "id": "daf0a0ad",
   "metadata": {},
   "outputs": [
    {
     "ename": "Terminator",
     "evalue": "",
     "output_type": "error",
     "traceback": [
      "\u001b[1;31m---------------------------------------------------------------------------\u001b[0m",
      "\u001b[1;31mTerminator\u001b[0m                                Traceback (most recent call last)",
      "\u001b[1;32m<ipython-input-6-0c75ef36d4f1>\u001b[0m in \u001b[0;36m<module>\u001b[1;34m\u001b[0m\n\u001b[0;32m     36\u001b[0m         \u001b[1;32melif\u001b[0m \u001b[0my1\u001b[0m \u001b[1;33m<\u001b[0m \u001b[1;33m-\u001b[0m\u001b[1;36m200\u001b[0m \u001b[1;32mor\u001b[0m \u001b[0my1\u001b[0m \u001b[1;33m>\u001b[0m \u001b[1;36m200\u001b[0m\u001b[1;33m:\u001b[0m\u001b[1;33m\u001b[0m\u001b[1;33m\u001b[0m\u001b[0m\n\u001b[0;32m     37\u001b[0m             \u001b[0mpool\u001b[0m\u001b[1;33m[\u001b[0m\u001b[0mg\u001b[0m\u001b[1;33m]\u001b[0m\u001b[1;33m.\u001b[0m\u001b[0mseth\u001b[0m\u001b[1;33m(\u001b[0m\u001b[1;33m-\u001b[0m\u001b[0mangle1\u001b[0m\u001b[1;33m)\u001b[0m\u001b[1;33m\u001b[0m\u001b[1;33m\u001b[0m\u001b[0m\n\u001b[1;32m---> 38\u001b[1;33m         \u001b[0mpool\u001b[0m\u001b[1;33m[\u001b[0m\u001b[0mg\u001b[0m\u001b[1;33m]\u001b[0m\u001b[1;33m.\u001b[0m\u001b[0mfd\u001b[0m\u001b[1;33m(\u001b[0m\u001b[1;36m5\u001b[0m\u001b[1;33m)\u001b[0m\u001b[1;33m\u001b[0m\u001b[1;33m\u001b[0m\u001b[0m\n\u001b[0m\u001b[0;32m     39\u001b[0m \u001b[0mt\u001b[0m\u001b[1;33m.\u001b[0m\u001b[0mdone\u001b[0m\u001b[1;33m(\u001b[0m\u001b[1;33m)\u001b[0m\u001b[1;33m\u001b[0m\u001b[1;33m\u001b[0m\u001b[0m\n",
      "\u001b[1;32mD:\\Users\\leyla\\anaconda3\\lib\\turtle.py\u001b[0m in \u001b[0;36mforward\u001b[1;34m(self, distance)\u001b[0m\n\u001b[0;32m   1636\u001b[0m         \u001b[1;33m(\u001b[0m\u001b[1;33m-\u001b[0m\u001b[1;36m50.00\u001b[0m\u001b[1;33m,\u001b[0m\u001b[1;36m0.00\u001b[0m\u001b[1;33m)\u001b[0m\u001b[1;33m\u001b[0m\u001b[1;33m\u001b[0m\u001b[0m\n\u001b[0;32m   1637\u001b[0m         \"\"\"\n\u001b[1;32m-> 1638\u001b[1;33m         \u001b[0mself\u001b[0m\u001b[1;33m.\u001b[0m\u001b[0m_go\u001b[0m\u001b[1;33m(\u001b[0m\u001b[0mdistance\u001b[0m\u001b[1;33m)\u001b[0m\u001b[1;33m\u001b[0m\u001b[1;33m\u001b[0m\u001b[0m\n\u001b[0m\u001b[0;32m   1639\u001b[0m \u001b[1;33m\u001b[0m\u001b[0m\n\u001b[0;32m   1640\u001b[0m     \u001b[1;32mdef\u001b[0m \u001b[0mback\u001b[0m\u001b[1;33m(\u001b[0m\u001b[0mself\u001b[0m\u001b[1;33m,\u001b[0m \u001b[0mdistance\u001b[0m\u001b[1;33m)\u001b[0m\u001b[1;33m:\u001b[0m\u001b[1;33m\u001b[0m\u001b[1;33m\u001b[0m\u001b[0m\n",
      "\u001b[1;32mD:\\Users\\leyla\\anaconda3\\lib\\turtle.py\u001b[0m in \u001b[0;36m_go\u001b[1;34m(self, distance)\u001b[0m\n\u001b[0;32m   1604\u001b[0m         \u001b[1;34m\"\"\"move turtle forward by specified distance\"\"\"\u001b[0m\u001b[1;33m\u001b[0m\u001b[1;33m\u001b[0m\u001b[0m\n\u001b[0;32m   1605\u001b[0m         \u001b[0mende\u001b[0m \u001b[1;33m=\u001b[0m \u001b[0mself\u001b[0m\u001b[1;33m.\u001b[0m\u001b[0m_position\u001b[0m \u001b[1;33m+\u001b[0m \u001b[0mself\u001b[0m\u001b[1;33m.\u001b[0m\u001b[0m_orient\u001b[0m \u001b[1;33m*\u001b[0m \u001b[0mdistance\u001b[0m\u001b[1;33m\u001b[0m\u001b[1;33m\u001b[0m\u001b[0m\n\u001b[1;32m-> 1606\u001b[1;33m         \u001b[0mself\u001b[0m\u001b[1;33m.\u001b[0m\u001b[0m_goto\u001b[0m\u001b[1;33m(\u001b[0m\u001b[0mende\u001b[0m\u001b[1;33m)\u001b[0m\u001b[1;33m\u001b[0m\u001b[1;33m\u001b[0m\u001b[0m\n\u001b[0m\u001b[0;32m   1607\u001b[0m \u001b[1;33m\u001b[0m\u001b[0m\n\u001b[0;32m   1608\u001b[0m     \u001b[1;32mdef\u001b[0m \u001b[0m_rotate\u001b[0m\u001b[1;33m(\u001b[0m\u001b[0mself\u001b[0m\u001b[1;33m,\u001b[0m \u001b[0mangle\u001b[0m\u001b[1;33m)\u001b[0m\u001b[1;33m:\u001b[0m\u001b[1;33m\u001b[0m\u001b[1;33m\u001b[0m\u001b[0m\n",
      "\u001b[1;32mD:\\Users\\leyla\\anaconda3\\lib\\turtle.py\u001b[0m in \u001b[0;36m_goto\u001b[1;34m(self, end)\u001b[0m\n\u001b[0;32m   3194\u001b[0m                                        \u001b[1;31m# of life, the universe and everything\u001b[0m\u001b[1;33m\u001b[0m\u001b[1;33m\u001b[0m\u001b[1;33m\u001b[0m\u001b[0m\n\u001b[0;32m   3195\u001b[0m             \u001b[0mself\u001b[0m\u001b[1;33m.\u001b[0m\u001b[0m_newLine\u001b[0m\u001b[1;33m(\u001b[0m\u001b[1;33m)\u001b[0m\u001b[1;33m\u001b[0m\u001b[1;33m\u001b[0m\u001b[0m\n\u001b[1;32m-> 3196\u001b[1;33m         \u001b[0mself\u001b[0m\u001b[1;33m.\u001b[0m\u001b[0m_update\u001b[0m\u001b[1;33m(\u001b[0m\u001b[1;33m)\u001b[0m \u001b[1;31m#count=True)\u001b[0m\u001b[1;33m\u001b[0m\u001b[1;33m\u001b[0m\u001b[0m\n\u001b[0m\u001b[0;32m   3197\u001b[0m \u001b[1;33m\u001b[0m\u001b[0m\n\u001b[0;32m   3198\u001b[0m     \u001b[1;32mdef\u001b[0m \u001b[0m_undogoto\u001b[0m\u001b[1;33m(\u001b[0m\u001b[0mself\u001b[0m\u001b[1;33m,\u001b[0m \u001b[0mentry\u001b[0m\u001b[1;33m)\u001b[0m\u001b[1;33m:\u001b[0m\u001b[1;33m\u001b[0m\u001b[1;33m\u001b[0m\u001b[0m\n",
      "\u001b[1;32mD:\\Users\\leyla\\anaconda3\\lib\\turtle.py\u001b[0m in \u001b[0;36m_update\u001b[1;34m(self)\u001b[0m\n\u001b[0;32m   2659\u001b[0m             \u001b[1;32mreturn\u001b[0m\u001b[1;33m\u001b[0m\u001b[1;33m\u001b[0m\u001b[0m\n\u001b[0;32m   2660\u001b[0m         \u001b[1;32melif\u001b[0m \u001b[0mscreen\u001b[0m\u001b[1;33m.\u001b[0m\u001b[0m_tracing\u001b[0m \u001b[1;33m==\u001b[0m \u001b[1;36m1\u001b[0m\u001b[1;33m:\u001b[0m\u001b[1;33m\u001b[0m\u001b[1;33m\u001b[0m\u001b[0m\n\u001b[1;32m-> 2661\u001b[1;33m             \u001b[0mself\u001b[0m\u001b[1;33m.\u001b[0m\u001b[0m_update_data\u001b[0m\u001b[1;33m(\u001b[0m\u001b[1;33m)\u001b[0m\u001b[1;33m\u001b[0m\u001b[1;33m\u001b[0m\u001b[0m\n\u001b[0m\u001b[0;32m   2662\u001b[0m             \u001b[0mself\u001b[0m\u001b[1;33m.\u001b[0m\u001b[0m_drawturtle\u001b[0m\u001b[1;33m(\u001b[0m\u001b[1;33m)\u001b[0m\u001b[1;33m\u001b[0m\u001b[1;33m\u001b[0m\u001b[0m\n\u001b[0;32m   2663\u001b[0m             \u001b[0mscreen\u001b[0m\u001b[1;33m.\u001b[0m\u001b[0m_update\u001b[0m\u001b[1;33m(\u001b[0m\u001b[1;33m)\u001b[0m                  \u001b[1;31m# TurtleScreenBase\u001b[0m\u001b[1;33m\u001b[0m\u001b[1;33m\u001b[0m\u001b[0m\n",
      "\u001b[1;32mD:\\Users\\leyla\\anaconda3\\lib\\turtle.py\u001b[0m in \u001b[0;36m_update_data\u001b[1;34m(self)\u001b[0m\n\u001b[0;32m   2645\u001b[0m \u001b[1;33m\u001b[0m\u001b[0m\n\u001b[0;32m   2646\u001b[0m     \u001b[1;32mdef\u001b[0m \u001b[0m_update_data\u001b[0m\u001b[1;33m(\u001b[0m\u001b[0mself\u001b[0m\u001b[1;33m)\u001b[0m\u001b[1;33m:\u001b[0m\u001b[1;33m\u001b[0m\u001b[1;33m\u001b[0m\u001b[0m\n\u001b[1;32m-> 2647\u001b[1;33m         \u001b[0mself\u001b[0m\u001b[1;33m.\u001b[0m\u001b[0mscreen\u001b[0m\u001b[1;33m.\u001b[0m\u001b[0m_incrementudc\u001b[0m\u001b[1;33m(\u001b[0m\u001b[1;33m)\u001b[0m\u001b[1;33m\u001b[0m\u001b[1;33m\u001b[0m\u001b[0m\n\u001b[0m\u001b[0;32m   2648\u001b[0m         \u001b[1;32mif\u001b[0m \u001b[0mself\u001b[0m\u001b[1;33m.\u001b[0m\u001b[0mscreen\u001b[0m\u001b[1;33m.\u001b[0m\u001b[0m_updatecounter\u001b[0m \u001b[1;33m!=\u001b[0m \u001b[1;36m0\u001b[0m\u001b[1;33m:\u001b[0m\u001b[1;33m\u001b[0m\u001b[1;33m\u001b[0m\u001b[0m\n\u001b[0;32m   2649\u001b[0m             \u001b[1;32mreturn\u001b[0m\u001b[1;33m\u001b[0m\u001b[1;33m\u001b[0m\u001b[0m\n",
      "\u001b[1;32mD:\\Users\\leyla\\anaconda3\\lib\\turtle.py\u001b[0m in \u001b[0;36m_incrementudc\u001b[1;34m(self)\u001b[0m\n\u001b[0;32m   1291\u001b[0m         \u001b[1;32mif\u001b[0m \u001b[1;32mnot\u001b[0m \u001b[0mTurtleScreen\u001b[0m\u001b[1;33m.\u001b[0m\u001b[0m_RUNNING\u001b[0m\u001b[1;33m:\u001b[0m\u001b[1;33m\u001b[0m\u001b[1;33m\u001b[0m\u001b[0m\n\u001b[0;32m   1292\u001b[0m             \u001b[0mTurtleScreen\u001b[0m\u001b[1;33m.\u001b[0m\u001b[0m_RUNNING\u001b[0m \u001b[1;33m=\u001b[0m \u001b[1;32mTrue\u001b[0m\u001b[1;33m\u001b[0m\u001b[1;33m\u001b[0m\u001b[0m\n\u001b[1;32m-> 1293\u001b[1;33m             \u001b[1;32mraise\u001b[0m \u001b[0mTerminator\u001b[0m\u001b[1;33m\u001b[0m\u001b[1;33m\u001b[0m\u001b[0m\n\u001b[0m\u001b[0;32m   1294\u001b[0m         \u001b[1;32mif\u001b[0m \u001b[0mself\u001b[0m\u001b[1;33m.\u001b[0m\u001b[0m_tracing\u001b[0m \u001b[1;33m>\u001b[0m \u001b[1;36m0\u001b[0m\u001b[1;33m:\u001b[0m\u001b[1;33m\u001b[0m\u001b[1;33m\u001b[0m\u001b[0m\n\u001b[0;32m   1295\u001b[0m             \u001b[0mself\u001b[0m\u001b[1;33m.\u001b[0m\u001b[0m_updatecounter\u001b[0m \u001b[1;33m+=\u001b[0m \u001b[1;36m1\u001b[0m\u001b[1;33m\u001b[0m\u001b[1;33m\u001b[0m\u001b[0m\n",
      "\u001b[1;31mTerminator\u001b[0m: "
     ]
    }
   ],
   "source": [
    "import turtle as t\n",
    "from random import randint\n",
    " \n",
    " \n",
    "number_of_t = 20\n",
    "steps_of_the_time_number = 100\n",
    " \n",
    " \n",
    "pool = [t.Turtle(shape='turtle') for i in range(number_of_t)]\n",
    " \n",
    "for unit in pool: \n",
    "    unit.turtlesize(0.4)\n",
    "    unit.penup()\n",
    "    unit.speed(randint(0, 10))\n",
    "    unit.goto(randint(-200, 200), randint(-200, 200))\n",
    "    unit.seth(randint(0, 360))\n",
    " \n",
    " \n",
    "for i in range(steps_of_the_time_number):\n",
    "    for g in range(len(pool)):\n",
    "        angle1 = pool[g].heading()\n",
    "        x1, y1 = pool[g].pos()  \n",
    "        for h in range(len(pool)): \n",
    "            if g != h:\n",
    "                x2, y2 = pool[h].pos()\n",
    "                angle2 = pool[h].heading()\n",
    "                dx = abs(x1-x2)    \n",
    "                dy = abs(y1-y2)   \n",
    "                if dx <= 3 and dy <= 3:  \n",
    "                    pool[h].seth(-angle2)\n",
    "                    pool[g].seth(-angle1) \n",
    "                    pool[h].fd(5) \n",
    "                    pool[g].fd(5)       \n",
    "        if x1 < -200 or x1 > 200:         \n",
    "            pool[g].seth(180 - angle1)\n",
    "        elif y1 < -200 or y1 > 200: \n",
    "            pool[g].seth(-angle1)\n",
    "        pool[g].fd(5)  \n",
    "t.done()"
   ]
  }
 ],
 "metadata": {
  "kernelspec": {
   "display_name": "Python 3",
   "language": "python",
   "name": "python3"
  },
  "language_info": {
   "codemirror_mode": {
    "name": "ipython",
    "version": 3
   },
   "file_extension": ".py",
   "mimetype": "text/x-python",
   "name": "python",
   "nbconvert_exporter": "python",
   "pygments_lexer": "ipython3",
   "version": "3.8.8"
  }
 },
 "nbformat": 4,
 "nbformat_minor": 5
}
